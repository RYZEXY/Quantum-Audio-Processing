{
 "cells": [
  {
   "cell_type": "code",
   "execution_count": 2,
   "metadata": {},
   "outputs": [
    {
     "name": "stdout",
     "output_type": "stream",
     "text": [
      "Trimmed audio saved as 'trimmed.wav'\n"
     ]
    }
   ],
   "source": [
    "import librosa\n",
    "import soundfile as sf\n",
    "\n",
    "# Load the audio file\n",
    "audio_path = \"input2.wav\"\n",
    "y, sr = librosa.load(audio_path, sr=None)  # Load with original sampling rate\n",
    "\n",
    "# Trim to the first second\n",
    "y_trimmed = y[:sr]  # Take only the first `sr` samples (1 second)\n",
    "\n",
    "# Save the trimmed audio\n",
    "sf.write(\"trimmed.wav\", y_trimmed, sr)\n",
    "\n",
    "print(\"Trimmed audio saved as 'trimmed.wav'\")\n"
   ]
  }
 ],
 "metadata": {
  "kernelspec": {
   "display_name": ".venv",
   "language": "python",
   "name": "python3"
  },
  "language_info": {
   "codemirror_mode": {
    "name": "ipython",
    "version": 3
   },
   "file_extension": ".py",
   "mimetype": "text/x-python",
   "name": "python",
   "nbconvert_exporter": "python",
   "pygments_lexer": "ipython3",
   "version": "3.11.3"
  }
 },
 "nbformat": 4,
 "nbformat_minor": 2
}
